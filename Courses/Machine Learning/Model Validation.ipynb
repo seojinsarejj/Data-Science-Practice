{
 "cells": [
  {
   "cell_type": "markdown",
   "id": "transparent-india",
   "metadata": {},
   "source": [
    "# Model Validation"
   ]
  },
  {
   "cell_type": "code",
   "execution_count": 2,
   "id": "noticed-internship",
   "metadata": {},
   "outputs": [
    {
     "data": {
      "text/plain": [
       "DecisionTreeRegressor()"
      ]
     },
     "execution_count": 2,
     "metadata": {},
     "output_type": "execute_result"
    }
   ],
   "source": [
    "# Data Loading Code Hidden Here\n",
    "import pandas as pd\n",
    "\n",
    "# Load data\n",
    "melbourne_file_path = '../../data/machine_learning/melb_data.csv'\n",
    "melbourne_data = pd.read_csv(melbourne_file_path) \n",
    "# Filter rows with missing price values\n",
    "filtered_melbourne_data = melbourne_data.dropna(axis=0)\n",
    "# Choose target and features\n",
    "y = filtered_melbourne_data.Price\n",
    "melbourne_features = ['Rooms', 'Bathroom', 'Landsize', 'BuildingArea', \n",
    "                        'YearBuilt', 'Lattitude', 'Longtitude']\n",
    "X = filtered_melbourne_data[melbourne_features]\n",
    "\n",
    "from sklearn.tree import DecisionTreeRegressor\n",
    "# Define model\n",
    "melbourne_model = DecisionTreeRegressor()\n",
    "# Fit model\n",
    "melbourne_model.fit(X, y)"
   ]
  },
  {
   "cell_type": "markdown",
   "id": "casual-entrepreneur",
   "metadata": {},
   "source": [
    "### 우리는 각 집의 예측 오류를 이렇게 계산합니다: \n",
    "\n",
    "`error=actual−predicted`\n",
    "\n",
    "### MAE (mean absolute error)를 사용하여 각 오류들의 절댓값을 구한 후 그 값들의 평균을 구합니다. 이 값이 모델의 품질로 평가됩니다. \n",
    "\n",
    "### 아래 코드를 통해 MAE (mean absolute error)를 구합니다"
   ]
  },
  {
   "cell_type": "code",
   "execution_count": 5,
   "id": "accurate-creation",
   "metadata": {},
   "outputs": [
    {
     "data": {
      "text/plain": [
       "434.71594577146544"
      ]
     },
     "execution_count": 5,
     "metadata": {},
     "output_type": "execute_result"
    }
   ],
   "source": [
    "from sklearn.metrics import mean_absolute_error\n",
    "\n",
    "predicted_home_prices = melbourne_model.predict(X)\n",
    "mean_absolute_error(y, predicted_home_prices)"
   ]
  },
  {
   "cell_type": "markdown",
   "id": "vulnerable-throw",
   "metadata": {},
   "source": [
    "## validation data\n",
    "\n",
    "- 이 측정값은 \"표본 내\" 데이터로 평가한 값이다. \n",
    "- 모델의 실제 가치는 새로운 데이터에 대한 예측에서 나오기 때문에 모델을 구축하는 데 사용되지 않은 데이터에 대한 성능을 측정 해야한다.\n",
    "- 가장 간단한 방법은 일부 데이터를 제외한 데이터를 사용하여 이전에 보지 못한 데이터에 대한 모형의 정확도를 테스트하는 것이다. \n",
    "- 이 데이터를 validation data(검증 데이터)라고 합니다."
   ]
  },
  {
   "cell_type": "markdown",
   "id": "artistic-wilson",
   "metadata": {},
   "source": [
    "#### scikit-learn 라이브러리는 train_test_split 함수를 가지고 있다.\n",
    "#### 이 함수는 데이터를 2개로 나누어 준다.\n",
    "#### 우리는 한 데이터 셋은 학습용, 다른 한 데이터 셋은 MAE를 계산하기 위해 사용할 것이다."
   ]
  },
  {
   "cell_type": "code",
   "execution_count": 7,
   "id": "sunrise-dragon",
   "metadata": {},
   "outputs": [
    {
     "name": "stdout",
     "output_type": "stream",
     "text": [
      "263984.53001936735\n"
     ]
    }
   ],
   "source": [
    "from sklearn.model_selection import train_test_split\n",
    "\n",
    "# train과 test를 나눔 \n",
    "train_X, val_X, train_y, val_y = train_test_split(X, y, random_state = 0)\n",
    "\n",
    "melbourne_model = DecisionTreeRegressor()\n",
    "# Fit model\n",
    "melbourne_model.fit(train_X, train_y)\n",
    "\n",
    "# get predicted prices on validation data\n",
    "val_predictions = melbourne_model.predict(val_X)\n",
    "print(mean_absolute_error(val_y, val_predictions))"
   ]
  },
  {
   "cell_type": "code",
   "execution_count": null,
   "id": "incident-sussex",
   "metadata": {},
   "outputs": [],
   "source": []
  }
 ],
 "metadata": {
  "kernelspec": {
   "display_name": "Python 3",
   "language": "python",
   "name": "python3"
  },
  "language_info": {
   "codemirror_mode": {
    "name": "ipython",
    "version": 3
   },
   "file_extension": ".py",
   "mimetype": "text/x-python",
   "name": "python",
   "nbconvert_exporter": "python",
   "pygments_lexer": "ipython3",
   "version": "3.8.5"
  }
 },
 "nbformat": 4,
 "nbformat_minor": 5
}
